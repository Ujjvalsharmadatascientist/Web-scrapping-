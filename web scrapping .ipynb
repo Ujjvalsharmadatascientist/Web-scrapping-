{
 "cells": [
  {
   "cell_type": "raw",
   "id": "a9e97402-8a69-4a05-bf60-68fa0c8f2f33",
   "metadata": {},
   "source": [
    "Q1. What is Web Scraping? Why is it Used? Give three areas where Web Scraping is used to get data.\n",
    "ans- Web scraping is the process of using software to extract data and content from websites. It's used for various purposes, including:\n",
    "Search engines: Crawling and indexing websites\n",
    "Price comparison: Extracting product descriptions and prices from other websites\n",
    "Market research: Collecting data from social media and forums"
   ]
  },
  {
   "cell_type": "raw",
   "id": "1208dad3-9370-4ad3-9316-f13962b74efe",
   "metadata": {},
   "source": [
    "Q2. What are the different methods used for Web Scraping?\n",
    "ans- Human copy-and-paste. The simplest form of web scraping is manually copying and pasting data from a web page into a text file or spreadsheet. ...\n",
    "Text pattern matching. ...\n",
    "HTTP programming. ...\n",
    "HTML parsing. ...\n",
    "DOM parsing. ...\n",
    "Vertical aggregation. ...\n",
    "Semantic annotation recognizing. ...\n",
    "Computer vision web-page analysis"
   ]
  },
  {
   "cell_type": "code",
   "execution_count": null,
   "id": "61960d0e-db0e-42d4-9055-f176a782fd33",
   "metadata": {},
   "outputs": [],
   "source": [
    "Q2. What are the different methods used for Web Scraping?\n",
    "ans- Human copy-and-paste. The simplest form of web scraping is manually copying and pasting data from a web page into a text file or spreadsheet. ...\n",
    "Text pattern matching. ...\n",
    "HTTP programming. ...\n",
    "HTML parsing. ...\n",
    "DOM parsing. ...\n",
    "Vertical aggregation. ...\n",
    "Semantic annotation recognizing. ...\n",
    "Computer vision web-page analysisQ3. What is BeautifulSoup? Why is it used?\n",
    "ans -Beautiful Soup is a Python library that parses HTML and XML documents, including those with malformed markup. It's a popular tool for web scraping, which involves converting raw HTML data into a more readable format.\n",
    "How it works\n",
    "Beautiful Soup creates a parse tree for documents that can be used to extract data from HTML. It represents parsed data as a tree which can be searched and iterated over with ordinary Python loops.\n",
    "Uses\n",
    "Beautiful Soup can be used to:\n",
    "Extract data\n",
    "Navigate\n",
    "Search\n",
    "Modify data\n",
    "Isolate titles and links from webpages\n",
    "Extract all of the text from HTML tags\n",
    "Alter the HTML in the document"
   ]
  }
 ],
 "metadata": {
  "kernelspec": {
   "display_name": "Python 3 (ipykernel)",
   "language": "python",
   "name": "python3"
  },
  "language_info": {
   "codemirror_mode": {
    "name": "ipython",
    "version": 3
   },
   "file_extension": ".py",
   "mimetype": "text/x-python",
   "name": "python",
   "nbconvert_exporter": "python",
   "pygments_lexer": "ipython3",
   "version": "3.10.8"
  }
 },
 "nbformat": 4,
 "nbformat_minor": 5
}
