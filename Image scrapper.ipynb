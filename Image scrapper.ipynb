{
 "cells": [
  {
   "cell_type": "raw",
   "id": "00311de3-a6f3-4002-90f7-703269297647",
   "metadata": {},
   "source": [
    "Q1. Write a python program to extract the video URL of the first five videos."
   ]
  },
  {
   "cell_type": "code",
   "execution_count": null,
   "id": "fb8307a0-c0a5-496a-8e36-2f7caa972110",
   "metadata": {},
   "outputs": [],
   "source": [
    "import requests\n",
    "from bs4 import BeautifulSoup as bs\n",
    "from urllib.request import urlopen\n",
    "import logging"
   ]
  },
  {
   "cell_type": "code",
   "execution_count": 10,
   "id": "c631cf65-ca9e-4e1c-b3cd-58ac22353cdc",
   "metadata": {},
   "outputs": [],
   "source": [
    "youtube_search = \"https://www.youtube.com/@PW-Foundation/videos\"\n"
   ]
  },
  {
   "cell_type": "code",
   "execution_count": 11,
   "id": "2045f5bd-e8d4-4e18-9afe-e1834bfc1801",
   "metadata": {},
   "outputs": [
    {
     "data": {
      "text/plain": [
       "'https://www.youtube.com/@PW-Foundation/videos'"
      ]
     },
     "execution_count": 11,
     "metadata": {},
     "output_type": "execute_result"
    }
   ],
   "source": [
    "youtube_search"
   ]
  },
  {
   "cell_type": "code",
   "execution_count": 12,
   "id": "45a32867-23af-4a49-bb81-05480dfa346b",
   "metadata": {},
   "outputs": [],
   "source": [
    "url_search = urlopen(youtube_search)"
   ]
  },
  {
   "cell_type": "code",
   "execution_count": 13,
   "id": "75d8539a-eaf3-45e8-9190-9fadab60b4c0",
   "metadata": {},
   "outputs": [],
   "source": [
    "youtube_page = url_search.read()"
   ]
  },
  {
   "cell_type": "code",
   "execution_count": 14,
   "id": "a5aa63c9-901d-4ba9-8776-4b4c8cca5d33",
   "metadata": {},
   "outputs": [],
   "source": [
    "youtube_html = bs(youtube_page, \"html.parser\")"
   ]
  },
  {
   "cell_type": "code",
   "execution_count": 15,
   "id": "45979de0-f0f2-490c-a404-b447e8304b29",
   "metadata": {},
   "outputs": [
    {
     "data": {
      "text/plain": [
       "[]"
      ]
     },
     "execution_count": 15,
     "metadata": {},
     "output_type": "execute_result"
    }
   ],
   "source": [
    "youtube_html.findAll('div', {'id':'contents'})"
   ]
  },
  {
   "cell_type": "code",
   "execution_count": 26,
   "id": "530c7c95-ccc2-4a02-a608-7857742f06bd",
   "metadata": {},
   "outputs": [
    {
     "name": "stdout",
     "output_type": "stream",
     "text": [
      "Total videos: 30\n",
      "https://www.youtube.com/watch?v=kGGlONm9GW0\n",
      "https://www.youtube.com/watch?v=aBLasjkB4UU\n",
      "https://www.youtube.com/watch?v=fXDjD7Nd1OA\n",
      "https://www.youtube.com/watch?v=jyXIhE28Enc\n",
      "https://www.youtube.com/watch?v=tfEDlFVgOyk\n",
      "https://www.youtube.com/watch?v=kzn8v4nmyCY\n",
      "https://www.youtube.com/watch?v=ZuY64wUksww\n",
      "https://www.youtube.com/watch?v=zsRKgg1WUg4\n",
      "https://www.youtube.com/watch?v=23YpdWydAUw\n",
      "https://www.youtube.com/watch?v=QJvm8xveBA4\n",
      "https://www.youtube.com/watch?v=wjkvnbNc0vc\n",
      "https://www.youtube.com/watch?v=bTiLsWJhvyw\n",
      "https://www.youtube.com/watch?v=kxFCvLyTtmQ\n",
      "https://www.youtube.com/watch?v=MB5pq4IWxco\n",
      "https://www.youtube.com/watch?v=6ESdCf5Rx20\n",
      "https://www.youtube.com/watch?v=3nyKujjaEVk\n",
      "https://www.youtube.com/watch?v=mSRwoMJOsCQ\n",
      "https://www.youtube.com/watch?v=6c8JUdnL3n8\n",
      "https://www.youtube.com/watch?v=zGJwt5KHGy0\n",
      "https://www.youtube.com/watch?v=lgS6DEhARYg\n",
      "https://www.youtube.com/watch?v=NvC7js0BYSk\n",
      "https://www.youtube.com/watch?v=OkJX4_DtnmE\n",
      "https://www.youtube.com/watch?v=pFD0_wuw_9k\n",
      "https://www.youtube.com/watch?v=uC30P-lLITc\n",
      "https://www.youtube.com/watch?v=GzBZkYL1I9Y\n",
      "https://www.youtube.com/watch?v=HORkiJZLDDk\n",
      "https://www.youtube.com/watch?v=NlDw3YNZrik\n",
      "https://www.youtube.com/watch?v=7NzFnt0ywFI\n",
      "https://www.youtube.com/watch?v=IlcktiWlF4Y\n",
      "https://www.youtube.com/watch?v=mztz_H1alAE\n"
     ]
    }
   ],
   "source": [
    "import re\n",
    "from bs4 import BeautifulSoup as bs\n",
    "from urllib.request import urlopen\n",
    "import json\n",
    "\n",
    "youtube_search = \"https://www.youtube.com/@PW-Foundation/videos\"\n",
    "\n",
    "# Open the URL and read the content of the page\n",
    "url_search = urlopen(youtube_search)\n",
    "youtube_page = url_search.read()\n",
    "\n",
    "# Parse the HTML content of the page using BeautifulSoup\n",
    "youtube_html = bs(youtube_page, \"html.parser\")\n",
    "\n",
    "# # Define a regular expression pattern to extract the JSON data from the script tag\n",
    "pattern = r'<script nonce=\"[-\\w]+\">\\n\\s+var ytInitialData = (.+)'\n",
    "script_data = re.search(pattern=pattern, string=youtube_html.prettify())[1].replace(';', '')\n",
    "\n",
    "# Load the JSON data into a Python dictionary\n",
    "json_data = json.loads(script_data)\n",
    "\n",
    "# Extract the list of videos from the JSON data and store it in the 'videos_container' variable\n",
    "videos_container = json_data['contents']['twoColumnBrowseResultsRenderer']['tabs'][1]['tabRenderer']['content']['richGridRenderer']['contents']\n",
    "\n",
    "print(f\"Total videos: {len(videos_container)-1}\")\n",
    "\n",
    "# Loop through the video list and print the URLs of the videos\n",
    "for video in videos_container[:-1]:\n",
    "    # print(video)\n",
    "    video_id = video['richItemRenderer']['content']['videoRenderer']['videoId']\n",
    "    video_url = f\"https://www.youtube.com/watch?v={video_id}\"\n",
    "    print(video_url)"
   ]
  },
  {
   "cell_type": "code",
   "execution_count": 28,
   "id": "981742cd-0b5f-4779-aac2-15d4e3a9c81d",
   "metadata": {},
   "outputs": [
    {
     "ename": "SyntaxError",
     "evalue": "unterminated string literal (detected at line 64) (2390015950.py, line 64)",
     "output_type": "error",
     "traceback": [
      "\u001b[0;36m  Cell \u001b[0;32mIn[28], line 64\u001b[0;36m\u001b[0m\n\u001b[0;31m    I would try an approach with selenium, since YT renders these pages with JS and I don't think its possible to scrape URLS with requests and bs4.\u001b[0m\n\u001b[0m                                                                                         ^\u001b[0m\n\u001b[0;31mSyntaxError\u001b[0m\u001b[0;31m:\u001b[0m unterminated string literal (detected at line 64)\n"
     ]
    }
   ],
   "source": [
    "from selenium import webdriver\n",
    "from selenium.webdriver.common.by import By\n",
    "from selenium.common.exceptions import NoSuchElementException\n",
    "\n",
    "driver = webdriver.Firefox()\n",
    "# driver = webdriver.Chrome()  # If you would prefer to use Chrome\n",
    "\n",
    "\n",
    "video_urls = []\n",
    "\n",
    "\n",
    "def accept_cookies():\n",
    "    try:\n",
    "        elem = driver.find_element(By.XPATH, \"/html/body/c-wiz/div/div/div/div[2]/div[1]/div[3]/div[1]/form[1]/div/div/button/span\")\n",
    "        elem.click()\n",
    "        return True\n",
    "    except NoSuchElementException:\n",
    "        return False\n",
    "\n",
    "\n",
    "def find_videos():\n",
    "    print(\"test\")\n",
    "    try:\n",
    "        # CODE THAT COPIES THE URLS\n",
    "\n",
    "        return True\n",
    "    except NoSuchElementException:\n",
    "        return False\n",
    "\n",
    "\n",
    "def activate_game():\n",
    "    try:\n",
    "        elem = driver.find_element(By.CLASS_NAME, \"btn\")\n",
    "        elem.click()\n",
    "        return True\n",
    "    except NoSuchElementException:\n",
    "        return False\n",
    "\n",
    "\n",
    "def activate_scraping():\n",
    "    driver.get(\"https://www.youtube.com/@NetworkChuck/videos\")\n",
    "    step = 0\n",
    "    tries = 0\n",
    "    while step < 2:\n",
    "        if tries <= 5:  # 5 tries to accomplish the task\n",
    "            tries += 1\n",
    "            success = False\n",
    "            match step:\n",
    "                case 0:\n",
    "                    success = accept_cookies()\n",
    "                case 1:\n",
    "                    success = find_videos()\n",
    "\n",
    "            if success:\n",
    "                step += 1\n",
    "                tries = 0\n",
    "            else:\n",
    "                driver.implicitly_wait(2)  # wait 2 secs before retrying the current step\n",
    "        else:\n",
    "            return False\n",
    "    assert \"No results found.\" not in driver.page_source\n",
    "    driver.close()\n",
    "    return True\n",
    "I would try an approach with selenium, since YT renders these pages with JS and I don't think its possible to scrape URLS with requests and bs4.\n",
    "\n",
    "You use something like this:\n",
    "\n",
    "from selenium import webdriver\n",
    "from selenium.webdriver.common.by import By\n",
    "from selenium.common.exceptions import NoSuchElementException\n",
    "\n",
    "driver = webdriver.Firefox()\n",
    "# driver = webdriver.Chrome()  # If you would prefer to use Chrome\n",
    "\n",
    "\n",
    "video_urls = []\n",
    "\n",
    "\n",
    "def accept_cookies():\n",
    "    try:\n",
    "        elem = driver.find_element(By.XPATH, \"/html/body/c-wiz/div/div/div/div[2]/div[1]/div[3]/div[1]/form[1]/div/div/button/span\")\n",
    "        elem.click()\n",
    "        return True\n",
    "    except NoSuchElementException:\n",
    "        return False\n",
    "\n",
    "\n",
    "def find_videos():\n",
    "    print(\"test\")\n",
    "    try:\n",
    "        # CODE THAT COPIES THE URLS\n",
    "\n",
    "        return True\n",
    "    except NoSuchElementException:\n",
    "        return False\n",
    "\n",
    "\n",
    "def activate_game():\n",
    "    try:\n",
    "        elem = driver.find_element(By.CLASS_NAME, \"btn\")\n",
    "        elem.click()\n",
    "        return True\n",
    "    except NoSuchElementException:\n",
    "        return False\n",
    "\n",
    "\n",
    "def activate_scraping():\n",
    "    driver.get(\"https://www.youtube.com/@NetworkChuck/videos\")\n",
    "    step = 0\n",
    "    tries = 0\n",
    "    while step < 2:\n",
    "        if tries <= 5:  # 5 tries to accomplish the task\n",
    "            tries += 1\n",
    "            success = False\n",
    "            match step:\n",
    "                case 0:\n",
    "                    success = accept_cookies()\n",
    "                case 1:\n",
    "                    success = find_videos()\n",
    "\n",
    "            if success:\n",
    "                step += 1\n",
    "                tries = 0\n",
    "            else:\n",
    "                driver.implicitly_wait(2)  # wait 2 secs before retrying the current step\n",
    "        else:\n",
    "            return False\n",
    "    assert \"No results found.\" not in driver.page_source\n",
    "    driver.close()\n",
    "    return True\n",
    "\n",
    "\n",
    "activate_scraping()"
   ]
  },
  {
   "cell_type": "code",
   "execution_count": null,
   "id": "70275881-182c-491f-8ee2-97bba9234d61",
   "metadata": {},
   "outputs": [],
   "source": []
  }
 ],
 "metadata": {
  "kernelspec": {
   "display_name": "Python 3 (ipykernel)",
   "language": "python",
   "name": "python3"
  },
  "language_info": {
   "codemirror_mode": {
    "name": "ipython",
    "version": 3
   },
   "file_extension": ".py",
   "mimetype": "text/x-python",
   "name": "python",
   "nbconvert_exporter": "python",
   "pygments_lexer": "ipython3",
   "version": "3.10.8"
  }
 },
 "nbformat": 4,
 "nbformat_minor": 5
}
